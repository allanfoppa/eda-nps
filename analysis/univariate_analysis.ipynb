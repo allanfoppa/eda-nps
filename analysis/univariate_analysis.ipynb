{
 "cells": [
  {
   "attachments": {},
   "cell_type": "markdown",
   "metadata": {},
   "source": [
    "# Análise univariada"
   ]
  },
  {
   "attachments": {},
   "cell_type": "markdown",
   "metadata": {},
   "source": [
    "## Contextualização\n",
    "\n",
    "A análise univariada corresponde a um processo de análise de dados que consiste em analisar um único\n",
    "atributo de um conjunto de dados por vez. Dessa forma, cada atributo é analisado individualmente\n",
    "de acordo com suas próprias características."
   ]
  },
  {
   "attachments": {},
   "cell_type": "markdown",
   "metadata": {},
   "source": [
    "## Obtenção de dados"
   ]
  },
  {
   "cell_type": "code",
   "execution_count": 1,
   "metadata": {},
   "outputs": [],
   "source": [
    "# needed packages\n",
    "import pandas as pd\n",
    "import matplotlib.pyplot as plt\n",
    "import numpy as np\n",
    "import seaborn as sns"
   ]
  },
  {
   "cell_type": "code",
   "execution_count": 3,
   "metadata": {},
   "outputs": [],
   "source": [
    "# load dataset\n",
    "df = pd.read_csv(\"../datasets/processed/nps_dataset_processed.csv\")"
   ]
  },
  {
   "cell_type": "code",
   "execution_count": 4,
   "metadata": {},
   "outputs": [
    {
     "data": {
      "text/html": [
       "<div>\n",
       "<style scoped>\n",
       "    .dataframe tbody tr th:only-of-type {\n",
       "        vertical-align: middle;\n",
       "    }\n",
       "\n",
       "    .dataframe tbody tr th {\n",
       "        vertical-align: top;\n",
       "    }\n",
       "\n",
       "    .dataframe thead th {\n",
       "        text-align: right;\n",
       "    }\n",
       "</style>\n",
       "<table border=\"1\" class=\"dataframe\">\n",
       "  <thead>\n",
       "    <tr style=\"text-align: right;\">\n",
       "      <th></th>\n",
       "      <th>Market</th>\n",
       "      <th>Survey date</th>\n",
       "      <th>Quarter</th>\n",
       "      <th>NPS</th>\n",
       "    </tr>\n",
       "  </thead>\n",
       "  <tbody>\n",
       "    <tr>\n",
       "      <th>0</th>\n",
       "      <td>PE</td>\n",
       "      <td>2022-05-07</td>\n",
       "      <td>3</td>\n",
       "      <td>10</td>\n",
       "    </tr>\n",
       "    <tr>\n",
       "      <th>1</th>\n",
       "      <td>PE</td>\n",
       "      <td>2022-01-27</td>\n",
       "      <td>4</td>\n",
       "      <td>9</td>\n",
       "    </tr>\n",
       "    <tr>\n",
       "      <th>2</th>\n",
       "      <td>AL</td>\n",
       "      <td>2022-01-26</td>\n",
       "      <td>4</td>\n",
       "      <td>0</td>\n",
       "    </tr>\n",
       "    <tr>\n",
       "      <th>3</th>\n",
       "      <td>MS</td>\n",
       "      <td>2023-03-12</td>\n",
       "      <td>4</td>\n",
       "      <td>10</td>\n",
       "    </tr>\n",
       "    <tr>\n",
       "      <th>4</th>\n",
       "      <td>SC</td>\n",
       "      <td>2018-03-23</td>\n",
       "      <td>1</td>\n",
       "      <td>8</td>\n",
       "    </tr>\n",
       "  </tbody>\n",
       "</table>\n",
       "</div>"
      ],
      "text/plain": [
       "  Market Survey date  Quarter  NPS\n",
       "0     PE  2022-05-07        3   10\n",
       "1     PE  2022-01-27        4    9\n",
       "2     AL  2022-01-26        4    0\n",
       "3     MS  2023-03-12        4   10\n",
       "4     SC  2018-03-23        1    8"
      ]
     },
     "execution_count": 4,
     "metadata": {},
     "output_type": "execute_result"
    }
   ],
   "source": [
    "df.head()"
   ]
  },
  {
   "attachments": {},
   "cell_type": "markdown",
   "metadata": {},
   "source": [
    "### Helpers"
   ]
  },
  {
   "cell_type": "code",
   "execution_count": 5,
   "metadata": {},
   "outputs": [],
   "source": [
    "# dataset entries\n",
    "df_entries = df.shape[0]"
   ]
  },
  {
   "attachments": {},
   "cell_type": "markdown",
   "metadata": {},
   "source": [
    "## Análise exploratória"
   ]
  },
  {
   "attachments": {},
   "cell_type": "markdown",
   "metadata": {},
   "source": [
    "TIPOS DE VARIÁVEIS:\n",
    "\n",
    "`Variáveis Quantitativas`: são as características que podem ser medidas em uma escala quantitativa, ou seja, apresentam valores numéricos que fazem sentido. Podem ser contínuas ou discretas.\n",
    "* `Discretas`: características mensuráveis que podem assumir apenas um número finito ou infinito contável de valores e, assim, somente fazem sentido valores inteiros. Geralmente são o resultado de contagens. Exemplos: número de filhos, número de bactérias por litro de leite, número de cigarros fumados por dia.\n",
    "* `Contínuas`: características mensuráveis que assumem valores em uma escala contínua (na reta real), para as quais valores fracionais fazem sentido. Usualmente devem ser medidas através de algum instrumento. Exemplos: peso (balança), altura (régua), tempo (relógio), pressão arterial, idade.\n",
    "---\n",
    "`Variáveis Qualitativas (ou categóricas)`: são as características que não possuem valores quantitativos, mas, ao contrário, são definidas por várias categorias, ou seja, representam uma classificação dos indivíduos. Podem ser nominais ou ordinais.\n",
    "* `Nominais`: não existe ordenação dentre as categorias. Exemplos: sexo, cor dos olhos, fumante/não fumante, doente/sadio.\n",
    "* `Ordinais`: existe uma ordenação entre as categorias. Exemplos: escolaridade (1o, 2o, 3o graus), estágio da doença (inicial, intermediário, terminal), mês de observação (janeiro, fevereiro,..., dezembro)."
   ]
  },
  {
   "attachments": {},
   "cell_type": "markdown",
   "metadata": {},
   "source": [
    "### Lista dos atributos a serem analisadas e seu tipo de variável\n",
    "\n",
    "* `Market` - qualitativa categórica nominal\n",
    "* `Survey date` - qualitativa categórica ordinais\n",
    "* `Quarter` - qualitativa categórica ordinais\n",
    "* `NPS` - qualitativa categórica ordinais\n"
   ]
  },
  {
   "attachments": {},
   "cell_type": "markdown",
   "metadata": {},
   "source": [
    "### `Market`"
   ]
  },
  {
   "attachments": {},
   "cell_type": "markdown",
   "metadata": {},
   "source": [
    "#### Q1. Quantos lugares foram abringidos?"
   ]
  },
  {
   "cell_type": "code",
   "execution_count": 39,
   "metadata": {},
   "outputs": [
    {
     "name": "stdout",
     "output_type": "stream",
     "text": [
      "['PE' 'AL' 'MS' 'SC' 'AC' 'RS' 'MG' 'SE' 'GO' 'AM' 'PI' 'PA' 'AP' 'SP'\n",
      " 'CE' 'TO' 'MT' 'RJ' 'PB' 'ES' 'PR' 'RO' 'MA' 'RN' 'BA' 'RR']\n",
      "Há 26 lugares abrangidos.\n"
     ]
    }
   ],
   "source": [
    "market = df['Market'].unique()\n",
    "\n",
    "print(market)\n",
    "print(f\"Há {len(market)} lugares abrangidos.\")"
   ]
  },
  {
   "cell_type": "markdown",
   "metadata": {},
   "source": [
    "#### Q2. Qual lugar teve maior número de avaliações?"
   ]
  },
  {
   "cell_type": "code",
   "execution_count": 46,
   "metadata": {},
   "outputs": [
    {
     "data": {
      "text/plain": [
       "Market\n",
       "AM    223\n",
       "MA    212\n",
       "MT    210\n",
       "RO    210\n",
       "AL    208\n",
       "AC    208\n",
       "CE    207\n",
       "RS    205\n",
       "AP    205\n",
       "PI    204\n",
       "SC    201\n",
       "SE    199\n",
       "RJ    196\n",
       "RR    194\n",
       "GO    193\n",
       "BA    190\n",
       "PR    182\n",
       "MG    181\n",
       "PB    181\n",
       "PE    177\n",
       "PA    176\n",
       "TO    174\n",
       "MS    173\n",
       "SP    171\n",
       "RN    167\n",
       "ES    153\n",
       "Name: count, dtype: int64"
      ]
     },
     "execution_count": 46,
     "metadata": {},
     "output_type": "execute_result"
    }
   ],
   "source": [
    "number_of_reviews = df['Market'].value_counts()\n",
    "number_of_reviews"
   ]
  },
  {
   "cell_type": "code",
   "execution_count": 50,
   "metadata": {},
   "outputs": [
    {
     "name": "stdout",
     "output_type": "stream",
     "text": [
      "AM\n"
     ]
    }
   ],
   "source": [
    "market_with_more_reviews = number_of_reviews.index.values[0]\n",
    "print(market_with_more_reviews)"
   ]
  },
  {
   "cell_type": "code",
   "execution_count": 51,
   "metadata": {},
   "outputs": [
    {
     "data": {
      "text/plain": [
       "(array([ 0,  1,  2,  3,  4,  5,  6,  7,  8,  9, 10, 11, 12, 13, 14, 15, 16,\n",
       "        17, 18, 19, 20, 21, 22, 23, 24, 25]),\n",
       " [Text(0, 0, 'AM'),\n",
       "  Text(1, 0, 'MA'),\n",
       "  Text(2, 0, 'MT'),\n",
       "  Text(3, 0, 'RO'),\n",
       "  Text(4, 0, 'AL'),\n",
       "  Text(5, 0, 'AC'),\n",
       "  Text(6, 0, 'CE'),\n",
       "  Text(7, 0, 'RS'),\n",
       "  Text(8, 0, 'AP'),\n",
       "  Text(9, 0, 'PI'),\n",
       "  Text(10, 0, 'SC'),\n",
       "  Text(11, 0, 'SE'),\n",
       "  Text(12, 0, 'RJ'),\n",
       "  Text(13, 0, 'RR'),\n",
       "  Text(14, 0, 'GO'),\n",
       "  Text(15, 0, 'BA'),\n",
       "  Text(16, 0, 'PR'),\n",
       "  Text(17, 0, 'MG'),\n",
       "  Text(18, 0, 'PB'),\n",
       "  Text(19, 0, 'PE'),\n",
       "  Text(20, 0, 'PA'),\n",
       "  Text(21, 0, 'TO'),\n",
       "  Text(22, 0, 'MS'),\n",
       "  Text(23, 0, 'SP'),\n",
       "  Text(24, 0, 'RN'),\n",
       "  Text(25, 0, 'ES')])"
      ]
     },
     "execution_count": 51,
     "metadata": {},
     "output_type": "execute_result"
    },
    {
     "data": {
      "image/png": "[encoded data removed]",
      "text/plain": [
       "<Figure size 2000x500 with 1 Axes>"
      ]
     },
     "metadata": {},
     "output_type": "display_data"
    }
   ],
   "source": [
    "number_of_reviews.plot(\n",
    "  kind=\"bar\",\n",
    "  figsize=(20, 5),\n",
    "  title='Número de avaliações por mercado',\n",
    "  xlabel='Mercado'\n",
    ")\n",
    "\n",
    "plt.xticks(rotation = 0)"
   ]
  },
  {
   "cell_type": "code",
   "execution_count": 52,
   "metadata": {},
   "outputs": [
    {
     "name": "stdout",
     "output_type": "stream",
     "text": [
      "Q1 Resposta = O estado (mercado) com o maior numero de avaliações é AM\n"
     ]
    }
   ],
   "source": [
    "print(f\"Q1 Resposta = O estado (mercado) com o maior numero de avaliações é {market_with_more_reviews}\")"
   ]
  },
  {
   "cell_type": "markdown",
   "metadata": {},
   "source": [
    "#### Q3. Qual lugar teve menor número de avaliações?"
   ]
  },
  {
   "cell_type": "code",
   "execution_count": 54,
   "metadata": {},
   "outputs": [
    {
     "data": {
      "text/plain": [
       "Market\n",
       "ES    153\n",
       "RN    167\n",
       "SP    171\n",
       "MS    173\n",
       "TO    174\n",
       "PA    176\n",
       "PE    177\n",
       "PB    181\n",
       "MG    181\n",
       "PR    182\n",
       "BA    190\n",
       "GO    193\n",
       "RR    194\n",
       "RJ    196\n",
       "SE    199\n",
       "SC    201\n",
       "PI    204\n",
       "AP    205\n",
       "RS    205\n",
       "CE    207\n",
       "AC    208\n",
       "AL    208\n",
       "RO    210\n",
       "MT    210\n",
       "MA    212\n",
       "AM    223\n",
       "Name: count, dtype: int64"
      ]
     },
     "execution_count": 54,
     "metadata": {},
     "output_type": "execute_result"
    }
   ],
   "source": [
    "number_of_reviews = df['Market'].value_counts().sort_values(ascending=True)\n",
    "number_of_reviews"
   ]
  },
  {
   "cell_type": "code",
   "execution_count": 105,
   "metadata": {},
   "outputs": [
    {
     "data": {
      "text/plain": [
       "(array([ 0,  1,  2,  3,  4,  5,  6,  7,  8,  9, 10, 11, 12, 13, 14, 15, 16,\n",
       "        17, 18, 19, 20, 21, 22, 23, 24, 25]),\n",
       " [Text(0, 0, 'ES'),\n",
       "  Text(1, 0, 'RN'),\n",
       "  Text(2, 0, 'SP'),\n",
       "  Text(3, 0, 'MS'),\n",
       "  Text(4, 0, 'TO'),\n",
       "  Text(5, 0, 'PA'),\n",
       "  Text(6, 0, 'PE'),\n",
       "  Text(7, 0, 'PB'),\n",
       "  Text(8, 0, 'MG'),\n",
       "  Text(9, 0, 'PR'),\n",
       "  Text(10, 0, 'BA'),\n",
       "  Text(11, 0, 'GO'),\n",
       "  Text(12, 0, 'RR'),\n",
       "  Text(13, 0, 'RJ'),\n",
       "  Text(14, 0, 'SE'),\n",
       "  Text(15, 0, 'SC'),\n",
       "  Text(16, 0, 'PI'),\n",
       "  Text(17, 0, 'AP'),\n",
       "  Text(18, 0, 'RS'),\n",
       "  Text(19, 0, 'CE'),\n",
       "  Text(20, 0, 'AC'),\n",
       "  Text(21, 0, 'AL'),\n",
       "  Text(22, 0, 'RO'),\n",
       "  Text(23, 0, 'MT'),\n",
       "  Text(24, 0, 'MA'),\n",
       "  Text(25, 0, 'AM')])"
      ]
     },
     "execution_count": 105,
     "metadata": {},
     "output_type": "execute_result"
    },
    {
     "data": {
      "image/png": "[encoded data removed]",
      "text/plain": [
       "<Figure size 2000x500 with 1 Axes>"
      ]
     },
     "metadata": {},
     "output_type": "display_data"
    }
   ],
   "source": [
    "number_of_reviews.plot(\n",
    "  kind=\"bar\",\n",
    "  figsize=(20, 5),\n",
    "  title='Número de avaliações por mercado',\n",
    "  xlabel='Mercado'\n",
    ")\n",
    "\n",
    "plt.xticks(rotation = 0)"
   ]
  },
  {
   "cell_type": "code",
   "execution_count": 61,
   "metadata": {},
   "outputs": [
    {
     "name": "stdout",
     "output_type": "stream",
     "text": [
      "Q1 Resposta = O estado (mercado) com o menor número de avaliações é ES.\n"
     ]
    }
   ],
   "source": [
    "market_with_less_reviews = number_of_reviews.index.values[0]\n",
    "print(f\"Q1 Resposta = O estado (mercado) com o menor número de avaliações é {market_with_less_reviews}.\")"
   ]
  },
  {
   "cell_type": "markdown",
   "metadata": {},
   "source": [
    "### `Survey date`"
   ]
  },
  {
   "cell_type": "markdown",
   "metadata": {},
   "source": [
    "#### Q1. Qual ano tem mais avaliações?"
   ]
  },
  {
   "cell_type": "code",
   "execution_count": 113,
   "metadata": {},
   "outputs": [
    {
     "data": {
      "text/plain": [
       "2022"
      ]
     },
     "execution_count": 113,
     "metadata": {},
     "output_type": "execute_result"
    }
   ],
   "source": [
    "get_unique_years = df['Survey date'].str.split('-').str[0].astype(int)\n",
    "get_unique_years_values = get_unique_years.value_counts()\n",
    "get_unique_years = get_unique_years_values.index.values[0]"
   ]
  },
  {
   "cell_type": "code",
   "execution_count": 112,
   "metadata": {},
   "outputs": [
    {
     "data": {
      "text/plain": [
       "(array([0, 1, 2, 3, 4, 5]),\n",
       " [Text(0, 0, '2022'),\n",
       "  Text(1, 0, '2020'),\n",
       "  Text(2, 0, '2021'),\n",
       "  Text(3, 0, '2023'),\n",
       "  Text(4, 0, '2018'),\n",
       "  Text(5, 0, '2019')])"
      ]
     },
     "execution_count": 112,
     "metadata": {},
     "output_type": "execute_result"
    },
    {
     "data": {
      "image/png": "[encoded data removed]",
      "text/plain": [
       "<Figure size 2000x500 with 1 Axes>"
      ]
     },
     "metadata": {},
     "output_type": "display_data"
    }
   ],
   "source": [
    "get_unique_years_values.plot(\n",
    "  kind=\"bar\",\n",
    "  figsize=(20, 5),\n",
    "  title='Número de avaliações de cada ano',\n",
    "  xlabel='Ano'\n",
    ")\n",
    "\n",
    "plt.xticks(rotation = 0)"
   ]
  },
  {
   "cell_type": "code",
   "execution_count": 114,
   "metadata": {},
   "outputs": [
    {
     "name": "stdout",
     "output_type": "stream",
     "text": [
      "O ano com mais avaliações é 2022.\n"
     ]
    }
   ],
   "source": [
    "print(f\"O ano com mais avaliações é {get_unique_years}.\")"
   ]
  },
  {
   "cell_type": "markdown",
   "metadata": {},
   "source": [
    "#### Q2. Qual mês tem mais avaliações?"
   ]
  },
  {
   "cell_type": "markdown",
   "metadata": {},
   "source": [
    "### `Quarter`"
   ]
  },
  {
   "cell_type": "markdown",
   "metadata": {},
   "source": [
    "#### Q1. Qual trimestre tem mais avaliações?"
   ]
  },
  {
   "cell_type": "markdown",
   "metadata": {},
   "source": [
    "#### Q2. Qual trimestre tem o melhor score?"
   ]
  },
  {
   "cell_type": "markdown",
   "metadata": {},
   "source": [
    "#### Q3. Qual trimestre tem o pior score?"
   ]
  },
  {
   "cell_type": "markdown",
   "metadata": {},
   "source": [
    "### `NPS`"
   ]
  },
  {
   "cell_type": "markdown",
   "metadata": {},
   "source": [
    "#### Q1. Qual a média das avaliações?"
   ]
  },
  {
   "cell_type": "markdown",
   "metadata": {},
   "source": [
    "#### Q2. Qual avaliação tem a maior aparição?"
   ]
  },
  {
   "cell_type": "markdown",
   "metadata": {},
   "source": [
    "#### Q3. Quantidade de aparição de cada score"
   ]
  },
  {
   "attachments": {},
   "cell_type": "markdown",
   "metadata": {},
   "source": [
    "## Conclusão"
   ]
  },
  {
   "attachments": {},
   "cell_type": "markdown",
   "metadata": {},
   "source": [
    "Após a preparação do dataset, foi possível responder todas as perguntas elaboradas."
   ]
  }
 ],
 "metadata": {
  "kernelspec": {
   "display_name": ".venv-eda-pokemon",
   "language": "python",
   "name": "python3"
  },
  "language_info": {
   "codemirror_mode": {
    "name": "ipython",
    "version": 3
   },
   "file_extension": ".py",
   "mimetype": "text/x-python",
   "name": "python",
   "nbconvert_exporter": "python",
   "pygments_lexer": "ipython3",
   "version": "3.11.3"
  },
  "orig_nbformat": 4
 },
 "nbformat": 4,
 "nbformat_minor": 2
}
