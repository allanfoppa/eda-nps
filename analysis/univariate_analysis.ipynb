{
 "cells": [
  {
   "attachments": {},
   "cell_type": "markdown",
   "metadata": {},
   "source": [
    "# Análise univariada"
   ]
  },
  {
   "attachments": {},
   "cell_type": "markdown",
   "metadata": {},
   "source": [
    "## Contextualização\n",
    "\n",
    "A análise univariada corresponde a um processo de análise de dados que consiste em analisar um único\n",
    "atributo de um conjunto de dados por vez. Dessa forma, cada atributo é analisado individualmente\n",
    "de acordo com suas próprias características."
   ]
  },
  {
   "attachments": {},
   "cell_type": "markdown",
   "metadata": {},
   "source": [
    "## Obtenção de dados"
   ]
  },
  {
   "cell_type": "code",
   "execution_count": null,
   "metadata": {},
   "outputs": [],
   "source": [
    "# needed packages\n",
    "import pandas as pd\n",
    "import matplotlib.pyplot as plt\n",
    "import numpy as np\n",
    "import seaborn as sns\n",
    "\n",
    "from enum import Enum"
   ]
  },
  {
   "cell_type": "code",
   "execution_count": null,
   "metadata": {},
   "outputs": [],
   "source": [
    "# load dataset\n",
    "df = pd.read_csv(\"../datasets/processed/nps_dataset_processed.csv\")"
   ]
  },
  {
   "cell_type": "code",
   "execution_count": null,
   "metadata": {},
   "outputs": [],
   "source": [
    "df.head()"
   ]
  },
  {
   "attachments": {},
   "cell_type": "markdown",
   "metadata": {},
   "source": [
    "### Helpers"
   ]
  },
  {
   "cell_type": "code",
   "execution_count": null,
   "metadata": {},
   "outputs": [],
   "source": [
    "# dataset entries\n",
    "df_entries = df.shape[0]\n",
    "\n",
    "class Quarter(Enum):\n",
    "  Primeiro = 1\n",
    "  Segundo = 2\n",
    "  Terceiro = 3\n",
    "  Quarto = 4\n",
    "\n",
    "class Months(Enum):\n",
    "  Janeiro = 1\n",
    "  Fevereiro = 2\n",
    "  Março = 3\n",
    "  Abril = 4\n",
    "  Maio = 5\n",
    "  Junho = 6\n",
    "  Julho = 7\n",
    "  Agosto = 8\n",
    "  Setembro = 9\n",
    "  Outubro = 10\n",
    "  Novembro = 11\n",
    "  Dezembro = 12"
   ]
  },
  {
   "attachments": {},
   "cell_type": "markdown",
   "metadata": {},
   "source": [
    "## Análise exploratória"
   ]
  },
  {
   "attachments": {},
   "cell_type": "markdown",
   "metadata": {},
   "source": [
    "TIPOS DE VARIÁVEIS:\n",
    "\n",
    "`Variáveis Quantitativas`: são as características que podem ser medidas em uma escala quantitativa, ou seja, apresentam valores numéricos que fazem sentido. Podem ser contínuas ou discretas.\n",
    "* `Discretas`: características mensuráveis que podem assumir apenas um número finito ou infinito contável de valores e, assim, somente fazem sentido valores inteiros. Geralmente são o resultado de contagens. Exemplos: número de filhos, número de bactérias por litro de leite, número de cigarros fumados por dia.\n",
    "* `Contínuas`: características mensuráveis que assumem valores em uma escala contínua (na reta real), para as quais valores fracionais fazem sentido. Usualmente devem ser medidas através de algum instrumento. Exemplos: peso (balança), altura (régua), tempo (relógio), pressão arterial, idade.\n",
    "---\n",
    "`Variáveis Qualitativas (ou categóricas)`: são as características que não possuem valores quantitativos, mas, ao contrário, são definidas por várias categorias, ou seja, representam uma classificação dos indivíduos. Podem ser nominais ou ordinais.\n",
    "* `Nominais`: não existe ordenação dentre as categorias. Exemplos: sexo, cor dos olhos, fumante/não fumante, doente/sadio.\n",
    "* `Ordinais`: existe uma ordenação entre as categorias. Exemplos: escolaridade (1o, 2o, 3o graus), estágio da doença (inicial, intermediário, terminal), mês de observação (janeiro, fevereiro,..., dezembro)."
   ]
  },
  {
   "attachments": {},
   "cell_type": "markdown",
   "metadata": {},
   "source": [
    "### Lista dos atributos a serem analisadas e seu tipo de variável\n",
    "\n",
    "* `Market` - qualitativa categórica nominal\n",
    "* `Survey date` - qualitativa categórica ordinais\n",
    "* `Quarter` - qualitativa categórica ordinais\n",
    "* `NPS` - qualitativa categórica ordinais\n"
   ]
  },
  {
   "attachments": {},
   "cell_type": "markdown",
   "metadata": {},
   "source": [
    "### `Market`"
   ]
  },
  {
   "attachments": {},
   "cell_type": "markdown",
   "metadata": {},
   "source": [
    "#### Q1. Quantos lugares foram abringidos?"
   ]
  },
  {
   "cell_type": "code",
   "execution_count": null,
   "metadata": {},
   "outputs": [],
   "source": [
    "market = df['Market'].unique()\n",
    "\n",
    "print(market)\n",
    "print(f\"Há {len(market)} lugares abrangidos.\")"
   ]
  },
  {
   "cell_type": "markdown",
   "metadata": {},
   "source": [
    "#### Q2. Qual lugar teve maior número de avaliações?"
   ]
  },
  {
   "cell_type": "code",
   "execution_count": null,
   "metadata": {},
   "outputs": [],
   "source": [
    "number_of_reviews = df['Market'].value_counts()\n",
    "number_of_reviews"
   ]
  },
  {
   "cell_type": "code",
   "execution_count": null,
   "metadata": {},
   "outputs": [],
   "source": [
    "market_with_more_reviews = number_of_reviews.index.values[0]\n",
    "print(market_with_more_reviews)"
   ]
  },
  {
   "cell_type": "code",
   "execution_count": null,
   "metadata": {},
   "outputs": [],
   "source": [
    "number_of_reviews.plot(\n",
    "  kind=\"bar\",\n",
    "  figsize=(20, 5),\n",
    "  title='Número de avaliações por mercado',\n",
    "  xlabel='Mercado'\n",
    ")\n",
    "\n",
    "plt.xticks(rotation = 0)"
   ]
  },
  {
   "cell_type": "code",
   "execution_count": null,
   "metadata": {},
   "outputs": [],
   "source": [
    "print(f\"Q1 Resposta = O estado (mercado) com o maior numero de avaliações é {market_with_more_reviews}\")"
   ]
  },
  {
   "cell_type": "markdown",
   "metadata": {},
   "source": [
    "#### Q3. Qual lugar teve menor número de avaliações?"
   ]
  },
  {
   "cell_type": "code",
   "execution_count": null,
   "metadata": {},
   "outputs": [],
   "source": [
    "number_of_reviews = df['Market'].value_counts().sort_values(ascending=True)\n",
    "number_of_reviews"
   ]
  },
  {
   "cell_type": "code",
   "execution_count": null,
   "metadata": {},
   "outputs": [],
   "source": [
    "number_of_reviews.plot(\n",
    "  kind=\"bar\",\n",
    "  figsize=(20, 5),\n",
    "  title='Número de avaliações por mercado',\n",
    "  xlabel='Mercado'\n",
    ")\n",
    "\n",
    "plt.xticks(rotation = 0)"
   ]
  },
  {
   "cell_type": "code",
   "execution_count": null,
   "metadata": {},
   "outputs": [],
   "source": [
    "market_with_less_reviews = number_of_reviews.index.values[0]\n",
    "print(f\"Q1 Resposta = O estado (mercado) com o menor número de avaliações é {market_with_less_reviews}.\")"
   ]
  },
  {
   "cell_type": "markdown",
   "metadata": {},
   "source": [
    "### `Survey date`"
   ]
  },
  {
   "cell_type": "markdown",
   "metadata": {},
   "source": [
    "#### Q1. Qual ano tem mais avaliações?"
   ]
  },
  {
   "cell_type": "code",
   "execution_count": null,
   "metadata": {},
   "outputs": [],
   "source": [
    "get_unique_years = df['Survey date'].str.split('-').str[0].astype(int)\n",
    "get_unique_years_values = get_unique_years.value_counts()\n",
    "get_unique_years = get_unique_years_values.index.values[0]"
   ]
  },
  {
   "cell_type": "code",
   "execution_count": null,
   "metadata": {},
   "outputs": [],
   "source": [
    "get_unique_years_values.plot(\n",
    "  kind=\"bar\",\n",
    "  figsize=(20, 5),\n",
    "  title='Número de avaliações de cada ano',\n",
    "  xlabel='Ano'\n",
    ")\n",
    "\n",
    "plt.xticks(rotation = 0)"
   ]
  },
  {
   "cell_type": "code",
   "execution_count": null,
   "metadata": {},
   "outputs": [],
   "source": [
    "print(f\"O ano com mais avaliações é {get_unique_years}.\")"
   ]
  },
  {
   "cell_type": "markdown",
   "metadata": {},
   "source": [
    "#### Q2. Qual mês tem mais avaliações?"
   ]
  },
  {
   "cell_type": "code",
   "execution_count": null,
   "metadata": {},
   "outputs": [],
   "source": [
    "get_unique_months = df['Survey date'].str.split('-').str[1].astype(int)\n",
    "get_unique_months_values = get_unique_months.value_counts()\n",
    "get_unique_months = get_unique_months_values.index.values[0]"
   ]
  },
  {
   "cell_type": "code",
   "execution_count": null,
   "metadata": {},
   "outputs": [],
   "source": [
    "get_unique_months_values.plot(\n",
    "  kind=\"bar\",\n",
    "  figsize=(20, 5),\n",
    "  title='Número de avaliações de cada mês',\n",
    "  xlabel='Mês'\n",
    ")\n",
    "\n",
    "plt.xticks(rotation = 0)"
   ]
  },
  {
   "cell_type": "code",
   "execution_count": null,
   "metadata": {},
   "outputs": [],
   "source": [
    "print(f\"O mês com mais avaliações é {Months(get_unique_months).name}.\")"
   ]
  },
  {
   "cell_type": "markdown",
   "metadata": {},
   "source": [
    "### `Quarter`"
   ]
  },
  {
   "cell_type": "markdown",
   "metadata": {},
   "source": [
    "#### Q1. Qual trimestre tem mais avaliações?"
   ]
  },
  {
   "cell_type": "code",
   "execution_count": null,
   "metadata": {},
   "outputs": [],
   "source": [
    "quarter_with_reviews = df['Quarter'].value_counts()\n",
    "quarter_with_reviews_output = df['Quarter'].value_counts().index[0]\n",
    "quarter_with_reviews_output"
   ]
  },
  {
   "cell_type": "code",
   "execution_count": null,
   "metadata": {},
   "outputs": [],
   "source": [
    "quarter_with_reviews.plot(\n",
    "  kind=\"bar\",\n",
    "  figsize=(20, 5),\n",
    "  title='Número de avaliações de cada trimestre',\n",
    "  xlabel='Trimestre'\n",
    ")\n",
    "\n",
    "plt.xticks(rotation = 0)"
   ]
  },
  {
   "cell_type": "code",
   "execution_count": null,
   "metadata": {},
   "outputs": [],
   "source": [
    "print(f\"O {Quarter(quarter_with_reviews_output).name} trimestre tem mais avaliações.\")"
   ]
  },
  {
   "cell_type": "markdown",
   "metadata": {},
   "source": [
    "### `NPS`"
   ]
  },
  {
   "cell_type": "markdown",
   "metadata": {},
   "source": [
    "#### Q1. Qual a média das avaliações?"
   ]
  },
  {
   "cell_type": "code",
   "execution_count": null,
   "metadata": {},
   "outputs": [],
   "source": [
    "reviews_mean = df['NPS'].mean()\n",
    "\n",
    "result = \"\"\n",
    "\n",
    "if reviews_mean < 7.0:\n",
    "  result = \"Detratores\"\n",
    "elif reviews_mean >= 7.0 and reviews_mean < 9.0:\n",
    "  result = \"Passivos\"\n",
    "else:\n",
    "  result = \"Promotores\"\n",
    "\n",
    "print(f\"Com a nota {reviews_mean:.2f} as avaliações revelam que o NPS é: {result}\")"
   ]
  },
  {
   "cell_type": "markdown",
   "metadata": {},
   "source": [
    "#### Q2. Qual avaliação tem a maior aparição?"
   ]
  },
  {
   "cell_type": "code",
   "execution_count": null,
   "metadata": {},
   "outputs": [],
   "source": [
    "reviews_max = df['NPS'].max()\n",
    "\n",
    "print(f\"A maior nota dada nas avaliações é: {reviews_max}\")"
   ]
  },
  {
   "cell_type": "markdown",
   "metadata": {},
   "source": [
    "#### Q3. Quantidade de aparição de cada score"
   ]
  },
  {
   "cell_type": "code",
   "execution_count": null,
   "metadata": {},
   "outputs": [],
   "source": [
    "reviews_min = df['NPS'].min()\n",
    "\n",
    "print(f\"A menor nota dada nas avaliações é: {reviews_min}\")"
   ]
  },
  {
   "attachments": {},
   "cell_type": "markdown",
   "metadata": {},
   "source": [
    "## Conclusão"
   ]
  },
  {
   "attachments": {},
   "cell_type": "markdown",
   "metadata": {},
   "source": [
    "Todas as respostas foram conseguidas e como próximo passo, vai ser criar um dashboard no Power BI."
   ]
  },
  {
   "cell_type": "markdown",
   "metadata": {},
   "source": [
    "obs: `Nesse EDA não vai ser feita a análise multivariada, para focar no dashboard do PowerBI`"
   ]
  }
 ],
 "metadata": {
  "kernelspec": {
   "display_name": ".venv-eda-pokemon",
   "language": "python",
   "name": "python3"
  },
  "language_info": {
   "codemirror_mode": {
    "name": "ipython",
    "version": 3
   },
   "file_extension": ".py",
   "mimetype": "text/x-python",
   "name": "python",
   "nbconvert_exporter": "python",
   "pygments_lexer": "ipython3",
   "version": "3.11.3"
  },
  "orig_nbformat": 4
 },
 "nbformat": 4,
 "nbformat_minor": 2
}
