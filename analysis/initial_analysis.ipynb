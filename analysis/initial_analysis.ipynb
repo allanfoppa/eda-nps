{
 "cells": [
  {
   "attachments": {},
   "cell_type": "markdown",
   "metadata": {},
   "source": [
    "# Análise do dataset NPS"
   ]
  },
  {
   "attachments": {},
   "cell_type": "markdown",
   "metadata": {},
   "source": [
    "## Contextualização\n",
    "\n",
    "Análise inicial do dataset, onde algumas perguntas devem ser respondidas."
   ]
  },
  {
   "attachments": {},
   "cell_type": "markdown",
   "metadata": {},
   "source": [
    "## Obtenção de dados"
   ]
  },
  {
   "cell_type": "code",
   "execution_count": null,
   "metadata": {},
   "outputs": [],
   "source": [
    "# needed packages\n",
    "import pandas as pd\n",
    "import matplotlib.pyplot as plt\n",
    "import numpy as np\n",
    "import seaborn as sns"
   ]
  },
  {
   "cell_type": "code",
   "execution_count": null,
   "metadata": {},
   "outputs": [],
   "source": [
    "# load dataset\n",
    "df = pd.read_csv(\"../datasets/processed/nps_dataset_processed.csv\")"
   ]
  },
  {
   "attachments": {},
   "cell_type": "markdown",
   "metadata": {},
   "source": [
    "## Análise exploratória"
   ]
  },
  {
   "cell_type": "code",
   "execution_count": null,
   "metadata": {},
   "outputs": [],
   "source": [
    "# show df head\n",
    "df.head()"
   ]
  },
  {
   "cell_type": "code",
   "execution_count": null,
   "metadata": {},
   "outputs": [],
   "source": [
    "# show df tail\n",
    "df.tail()"
   ]
  },
  {
   "attachments": {},
   "cell_type": "markdown",
   "metadata": {},
   "source": [
    "De acordo com a fonte dos dados, essa é a descrição de cada uma das variáveis presentes no dataset.\n",
    "\n",
    "`Market`: O lugar de onde o score veio  \n",
    "`Survey date`: Data que o score foi feito  \n",
    "`Quarter`: Em qual trimestre feito a analise  \n",
    "`NPS`: Nota do score em si  \n"
   ]
  },
  {
   "cell_type": "code",
   "execution_count": null,
   "metadata": {},
   "outputs": [],
   "source": [
    "# verificando as dimensões\n",
    "print('Variáveis: ', df.shape[1])\n",
    "print('Entradas: ', df.shape[0])"
   ]
  },
  {
   "cell_type": "code",
   "execution_count": null,
   "metadata": {},
   "outputs": [],
   "source": [
    "# verificando as informações sobre o dataset\n",
    "df.info()"
   ]
  },
  {
   "attachments": {},
   "cell_type": "markdown",
   "metadata": {},
   "source": [
    "A partir da função `describe()` podemos ver a distribuição estatística das variáveis. Tiramos informações como:\n",
    "\n",
    "`count` - Contagem de entradas válidas para cada variável  \n",
    "`mean` - Média aritmética dos valores da variável  \n",
    "`std` - Desvio padrão  \n",
    "`min` - Menor valor existente para a variável  \n",
    "`25%` - Primeiro quartil  \n",
    "`50%` - Mediana  \n",
    "`75%` - Terceiro quartil  \n",
    "`max` - MAior valor existente para a variável  "
   ]
  },
  {
   "cell_type": "code",
   "execution_count": null,
   "metadata": {},
   "outputs": [],
   "source": [
    "# distribuição estatística das variáveis numéricas\n",
    "df.describe()"
   ]
  },
  {
   "attachments": {},
   "cell_type": "markdown",
   "metadata": {},
   "source": [
    "Passado o argumento `include='O'`, para que busca de variáveis categóricas.\n",
    "\n",
    "`count` - Contagem de entradas válidas para a variável  \n",
    "`unique` - Quantidade de entradas únicas  \n",
    "`top` - Entrada mais comum  \n",
    "`freq` - Frequência em que a entrada mais comum ocorre  "
   ]
  },
  {
   "cell_type": "code",
   "execution_count": null,
   "metadata": {},
   "outputs": [],
   "source": [
    "# distribuição estatística das variáveis categóricas\n",
    "df.describe(include='O')"
   ]
  },
  {
   "cell_type": "code",
   "execution_count": null,
   "metadata": {},
   "outputs": [],
   "source": [
    "# checando a porcentagem de valores ausentes para cada variável\n",
    "(df.isnull().sum() / df.shape[0]).sort_values(ascending=False)"
   ]
  },
  {
   "cell_type": "code",
   "execution_count": null,
   "metadata": {},
   "outputs": [],
   "source": [
    "# plot missing values\n",
    "df.isnull().sum().sort_values(ascending=False).plot(\n",
    "  kind=\"bar\",\n",
    "  figsize = (15,6),\n",
    "  fontsize = 10\n",
    ")\n",
    "\n",
    "plt.title(\"Total Missing Values\", fontsize = 20)\n",
    "plt.xlabel(\"Columns name\", fontsize = 20)\n",
    "plt.ylabel(\"Missing values\", fontsize = 20)"
   ]
  },
  {
   "attachments": {},
   "cell_type": "markdown",
   "metadata": {},
   "source": [
    "Na verificação de valores nulos, nenhum valor é nulo."
   ]
  },
  {
   "attachments": {},
   "cell_type": "markdown",
   "metadata": {},
   "source": [
    "Qual o tipo de distribuição das variáveis?"
   ]
  },
  {
   "cell_type": "code",
   "execution_count": null,
   "metadata": {},
   "outputs": [],
   "source": [
    "df.hist(bins=20, figsize=(20, 5))"
   ]
  },
  {
   "attachments": {},
   "cell_type": "markdown",
   "metadata": {},
   "source": [
    "## Conclusão"
   ]
  },
  {
   "attachments": {},
   "cell_type": "markdown",
   "metadata": {},
   "source": [
    "O dataset está completo, podendo assim ir para a análise univariada."
   ]
  }
 ],
 "metadata": {
  "kernelspec": {
   "display_name": ".venv-eda-pokemon",
   "language": "python",
   "name": "python3"
  },
  "language_info": {
   "codemirror_mode": {
    "name": "ipython",
    "version": 3
   },
   "file_extension": ".py",
   "mimetype": "text/x-python",
   "name": "python",
   "nbconvert_exporter": "python",
   "pygments_lexer": "ipython3",
   "version": "3.11.3"
  },
  "orig_nbformat": 4
 },
 "nbformat": 4,
 "nbformat_minor": 2
}
